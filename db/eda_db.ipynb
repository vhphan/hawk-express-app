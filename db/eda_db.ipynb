{
 "cells": [
  {
   "cell_type": "code",
   "execution_count": 15,
   "metadata": {},
   "outputs": [
    {
     "ename": "OSError",
     "evalue": "Starting path not found",
     "output_type": "error",
     "traceback": [
      "\u001b[0;31m---------------------------------------------------------------------------\u001b[0m",
      "\u001b[0;31mOSError\u001b[0m                                   Traceback (most recent call last)",
      "Cell \u001b[0;32mIn[15], line 3\u001b[0m\n\u001b[1;32m      1\u001b[0m \u001b[39mfrom\u001b[39;00m \u001b[39mdotenv\u001b[39;00m \u001b[39mimport\u001b[39;00m load_dotenv\n\u001b[0;32m----> 3\u001b[0m load_dotenv()\n",
      "File \u001b[0;32m~/miniconda3/envs/dnb/lib/python3.10/site-packages/dotenv/main.py:336\u001b[0m, in \u001b[0;36mload_dotenv\u001b[0;34m(dotenv_path, stream, verbose, override, interpolate, encoding)\u001b[0m\n\u001b[1;32m    319\u001b[0m \u001b[39m\"\"\"Parse a .env file and then load all the variables found as environment variables.\u001b[39;00m\n\u001b[1;32m    320\u001b[0m \n\u001b[1;32m    321\u001b[0m \u001b[39mParameters:\u001b[39;00m\n\u001b[0;32m   (...)\u001b[0m\n\u001b[1;32m    333\u001b[0m \u001b[39m.env file.\u001b[39;00m\n\u001b[1;32m    334\u001b[0m \u001b[39m\"\"\"\u001b[39;00m\n\u001b[1;32m    335\u001b[0m \u001b[39mif\u001b[39;00m dotenv_path \u001b[39mis\u001b[39;00m \u001b[39mNone\u001b[39;00m \u001b[39mand\u001b[39;00m stream \u001b[39mis\u001b[39;00m \u001b[39mNone\u001b[39;00m:\n\u001b[0;32m--> 336\u001b[0m     dotenv_path \u001b[39m=\u001b[39m find_dotenv()\n\u001b[1;32m    338\u001b[0m dotenv \u001b[39m=\u001b[39m DotEnv(\n\u001b[1;32m    339\u001b[0m     dotenv_path\u001b[39m=\u001b[39mdotenv_path,\n\u001b[1;32m    340\u001b[0m     stream\u001b[39m=\u001b[39mstream,\n\u001b[0;32m   (...)\u001b[0m\n\u001b[1;32m    344\u001b[0m     encoding\u001b[39m=\u001b[39mencoding,\n\u001b[1;32m    345\u001b[0m )\n\u001b[1;32m    346\u001b[0m \u001b[39mreturn\u001b[39;00m dotenv\u001b[39m.\u001b[39mset_as_environment_variables()\n",
      "File \u001b[0;32m~/miniconda3/envs/dnb/lib/python3.10/site-packages/dotenv/main.py:300\u001b[0m, in \u001b[0;36mfind_dotenv\u001b[0;34m(filename, raise_error_if_not_found, usecwd)\u001b[0m\n\u001b[1;32m    297\u001b[0m     frame_filename \u001b[39m=\u001b[39m frame\u001b[39m.\u001b[39mf_code\u001b[39m.\u001b[39mco_filename\n\u001b[1;32m    298\u001b[0m     path \u001b[39m=\u001b[39m os\u001b[39m.\u001b[39mpath\u001b[39m.\u001b[39mdirname(os\u001b[39m.\u001b[39mpath\u001b[39m.\u001b[39mabspath(frame_filename))\n\u001b[0;32m--> 300\u001b[0m \u001b[39mfor\u001b[39;00m dirname \u001b[39min\u001b[39;00m _walk_to_root(path):\n\u001b[1;32m    301\u001b[0m     check_path \u001b[39m=\u001b[39m os\u001b[39m.\u001b[39mpath\u001b[39m.\u001b[39mjoin(dirname, filename)\n\u001b[1;32m    302\u001b[0m     \u001b[39mif\u001b[39;00m os\u001b[39m.\u001b[39mpath\u001b[39m.\u001b[39misfile(check_path):\n",
      "File \u001b[0;32m~/miniconda3/envs/dnb/lib/python3.10/site-packages/dotenv/main.py:257\u001b[0m, in \u001b[0;36m_walk_to_root\u001b[0;34m(path)\u001b[0m\n\u001b[1;32m    253\u001b[0m \u001b[39m\"\"\"\u001b[39;00m\n\u001b[1;32m    254\u001b[0m \u001b[39mYield directories starting from the given directory up to the root\u001b[39;00m\n\u001b[1;32m    255\u001b[0m \u001b[39m\"\"\"\u001b[39;00m\n\u001b[1;32m    256\u001b[0m \u001b[39mif\u001b[39;00m \u001b[39mnot\u001b[39;00m os\u001b[39m.\u001b[39mpath\u001b[39m.\u001b[39mexists(path):\n\u001b[0;32m--> 257\u001b[0m     \u001b[39mraise\u001b[39;00m \u001b[39mIOError\u001b[39;00m(\u001b[39m'\u001b[39m\u001b[39mStarting path not found\u001b[39m\u001b[39m'\u001b[39m)\n\u001b[1;32m    259\u001b[0m \u001b[39mif\u001b[39;00m os\u001b[39m.\u001b[39mpath\u001b[39m.\u001b[39misfile(path):\n\u001b[1;32m    260\u001b[0m     path \u001b[39m=\u001b[39m os\u001b[39m.\u001b[39mpath\u001b[39m.\u001b[39mdirname(path)\n",
      "\u001b[0;31mOSError\u001b[0m: Starting path not found"
     ]
    }
   ],
   "source": [
    "from dotenv import load_dotenv\n",
    "\n",
    "load_dotenv()"
   ]
  },
  {
   "cell_type": "code",
   "execution_count": null,
   "metadata": {},
   "outputs": [],
   "source": [
    "import os\n",
    "os.getenv('PGDB_USER')"
   ]
  },
  {
   "cell_type": "code",
   "execution_count": null,
   "metadata": {},
   "outputs": [],
   "source": [
    "%run -i '../pyscript/db/main.py'"
   ]
  },
  {
   "cell_type": "code",
   "execution_count": 16,
   "metadata": {},
   "outputs": [],
   "source": [
    "from sqlalchemy import create_engine, text"
   ]
  },
  {
   "cell_type": "code",
   "execution_count": 17,
   "metadata": {},
   "outputs": [],
   "source": [
    "sql = \"select * from information_schema.tables where table_schema = 'daily_stats' and table_name ilike '%%_flex%%';\"\n",
    "\n",
    "df_tables = db.query_df(sql)"
   ]
  },
  {
   "cell_type": "code",
   "execution_count": 18,
   "metadata": {},
   "outputs": [],
   "source": [
    "sql = \"select * from information_schema.columns where table_schema = 'daily_stats' and table_name ilike '%%_flex%%';\"\n",
    "\n",
    "df_columns = db.query_df(sql)"
   ]
  },
  {
   "cell_type": "code",
   "execution_count": 19,
   "metadata": {},
   "outputs": [],
   "source": [
    "sql = \"\"\"select column_name from information_schema.columns \n",
    "where table_name ilike 'dc%'\n",
    "and table_name ilike '%_eutran%' \n",
    "and table_name ilike '%_flex%'\n",
    "and column_name ilike '%_nom' \n",
    "order by column_name;\"\"\"\n",
    "\n",
    "df_kpi = db.query_df(sql)\n",
    "kpis = df_kpi.values.tolist()   "
   ]
  },
  {
   "cell_type": "code",
   "execution_count": 20,
   "metadata": {},
   "outputs": [
    {
     "data": {
      "text/plain": [
       "[['dl_16qam_nom'],\n",
       " ['dl_16qam_nom'],\n",
       " ['dl_256qam_nom'],\n",
       " ['dl_256qam_nom'],\n",
       " ['dl_64qam_nom'],\n",
       " ['dl_64qam_nom'],\n",
       " ['dl_cell_throughput_nom'],\n",
       " ['dl_cell_throughput_nom'],\n",
       " ['dl_data_volume_nom'],\n",
       " ['dl_data_volume_nom'],\n",
       " ['dl_qpsk_nom'],\n",
       " ['dl_qpsk_nom'],\n",
       " ['dl_user_throughput_nom'],\n",
       " ['dl_user_throughput_nom'],\n",
       " ['e-rab_setup_success_rate_nom'],\n",
       " ['e-rab_setup_success_rate_nom'],\n",
       " ['erab_drop_call_rate_nom'],\n",
       " ['erab_drop_call_rate_nom'],\n",
       " ['intrafreq_hosr_nom'],\n",
       " ['intrafreq_hosr_nom'],\n",
       " ['packet_loss_(dl)_nom'],\n",
       " ['packet_loss_(dl)_nom'],\n",
       " ['packet_loss_(ul)_nom'],\n",
       " ['packet_loss_(ul)_nom'],\n",
       " ['ul_16qam_nom'],\n",
       " ['ul_16qam_nom'],\n",
       " ['ul_256qam_nom'],\n",
       " ['ul_256qam_nom'],\n",
       " ['ul_64qam_nom'],\n",
       " ['ul_64qam_nom'],\n",
       " ['ul_bler_nom'],\n",
       " ['ul_bler_nom'],\n",
       " ['ul_cell_throughput_nom'],\n",
       " ['ul_cell_throughput_nom'],\n",
       " ['ul_data_volume_nom'],\n",
       " ['ul_data_volume_nom'],\n",
       " ['ul_qpsk_nom'],\n",
       " ['ul_qpsk_nom'],\n",
       " ['ul_user_throughput_nom'],\n",
       " ['ul_user_throughput_nom']]"
      ]
     },
     "execution_count": 20,
     "metadata": {},
     "output_type": "execute_result"
    }
   ],
   "source": [
    "kpis.sort()\n",
    "kpis"
   ]
  },
  {
   "cell_type": "code",
   "execution_count": 21,
   "metadata": {},
   "outputs": [
    {
     "data": {
      "text/plain": [
       "['dl_16qam_nom',\n",
       " 'dl_16qam_nom',\n",
       " 'dl_256qam_nom',\n",
       " 'dl_256qam_nom',\n",
       " 'dl_64qam_nom',\n",
       " 'dl_64qam_nom',\n",
       " 'dl_cell_throughput_nom',\n",
       " 'dl_cell_throughput_nom',\n",
       " 'dl_data_volume_nom',\n",
       " 'dl_data_volume_nom',\n",
       " 'dl_qpsk_nom',\n",
       " 'dl_qpsk_nom',\n",
       " 'dl_user_throughput_nom',\n",
       " 'dl_user_throughput_nom',\n",
       " 'e-rab_setup_success_rate_nom',\n",
       " 'e-rab_setup_success_rate_nom',\n",
       " 'erab_drop_call_rate_nom',\n",
       " 'erab_drop_call_rate_nom',\n",
       " 'intrafreq_hosr_nom',\n",
       " 'intrafreq_hosr_nom',\n",
       " 'packet_loss_(dl)_nom',\n",
       " 'packet_loss_(dl)_nom',\n",
       " 'packet_loss_(ul)_nom',\n",
       " 'packet_loss_(ul)_nom',\n",
       " 'ul_16qam_nom',\n",
       " 'ul_16qam_nom',\n",
       " 'ul_256qam_nom',\n",
       " 'ul_256qam_nom',\n",
       " 'ul_64qam_nom',\n",
       " 'ul_64qam_nom',\n",
       " 'ul_bler_nom',\n",
       " 'ul_bler_nom',\n",
       " 'ul_cell_throughput_nom',\n",
       " 'ul_cell_throughput_nom',\n",
       " 'ul_data_volume_nom',\n",
       " 'ul_data_volume_nom',\n",
       " 'ul_qpsk_nom',\n",
       " 'ul_qpsk_nom',\n",
       " 'ul_user_throughput_nom',\n",
       " 'ul_user_throughput_nom']"
      ]
     },
     "execution_count": 21,
     "metadata": {},
     "output_type": "execute_result"
    }
   ],
   "source": [
    "kpis = [kpi[0] for kpi in kpis]\n",
    "kpis"
   ]
  },
  {
   "cell_type": "code",
   "execution_count": 22,
   "metadata": {},
   "outputs": [
    {
     "data": {
      "text/plain": [
       "['ul_cell_throughput_nom',\n",
       " 'dl_data_volume_nom',\n",
       " 'ul_bler_nom',\n",
       " 'ul_256qam_nom',\n",
       " 'ul_qpsk_nom',\n",
       " 'packet_loss_(ul)_nom',\n",
       " 'erab_drop_call_rate_nom',\n",
       " 'ul_16qam_nom',\n",
       " 'dl_16qam_nom',\n",
       " 'dl_256qam_nom',\n",
       " 'dl_cell_throughput_nom',\n",
       " 'ul_user_throughput_nom',\n",
       " 'intrafreq_hosr_nom',\n",
       " 'dl_user_throughput_nom',\n",
       " 'dl_qpsk_nom',\n",
       " 'e-rab_setup_success_rate_nom',\n",
       " 'packet_loss_(dl)_nom',\n",
       " 'ul_data_volume_nom',\n",
       " 'dl_64qam_nom',\n",
       " 'ul_64qam_nom']"
      ]
     },
     "execution_count": 22,
     "metadata": {},
     "output_type": "execute_result"
    }
   ],
   "source": [
    "kpis = list(set(kpis))\n",
    "kpis"
   ]
  },
  {
   "cell_type": "code",
   "execution_count": 23,
   "metadata": {},
   "outputs": [],
   "source": [
    "kpis.sort()"
   ]
  },
  {
   "cell_type": "code",
   "execution_count": 24,
   "metadata": {},
   "outputs": [
    {
     "name": "stdout",
     "output_type": "stream",
     "text": [
      "\"dl_16qam\", \n",
      "\"dl_256qam\", \n",
      "\"dl_64qam\", \n",
      "\"dl_cell_throughput\", \n",
      "\"dl_data_volume\", \n",
      "\"dl_qpsk\", \n",
      "\"dl_user_throughput\", \n",
      "\"e-rab_setup_success_rate\", \n",
      "\"erab_drop_call_rate\", \n",
      "\"intrafreq_hosr\", \n",
      "\"packet_loss_(dl)\", \n",
      "\"packet_loss_(ul)\", \n",
      "\"ul_16qam\", \n",
      "\"ul_256qam\", \n",
      "\"ul_64qam\", \n",
      "\"ul_bler\", \n",
      "\"ul_cell_throughput\", \n",
      "\"ul_data_volume\", \n",
      "\"ul_qpsk\", \n",
      "\"ul_user_throughput\"\n"
     ]
    }
   ],
   "source": [
    "# join all elements in kpis separated by commas\n",
    "kpis_string = ', \\n'.join(['\"'+ elem.replace('_nom', '') +'\"' for elem in kpis])\n",
    "print(kpis_string)\n"
   ]
  },
  {
   "cell_type": "code",
   "execution_count": null,
   "metadata": {},
   "outputs": [],
   "source": []
  },
  {
   "cell_type": "code",
   "execution_count": null,
   "metadata": {},
   "outputs": [],
   "source": []
  },
  {
   "cell_type": "code",
   "execution_count": null,
   "metadata": {},
   "outputs": [],
   "source": [
    "kpi_dict = {}\n",
    "\n",
    "for table in df_columns['table_name'].unique():\n",
    "    kpi_dict[table] = {}\n",
    "    print()\n",
    "    print(f'==========={table}==========')\n",
    "    columns = df_columns[df_columns['table_name'] == table]['column_name'].unique()\n",
    "    for column in columns:\n",
    "        if (column.endswith('_nom')):\n",
    "            nom = column\n",
    "            kpi = column[:-4].strip()\n",
    "            # find the corresponding denom\n",
    "            denom = column[:-4] + '_den'\n",
    "            # check denom column exists\n",
    "            if denom in columns:\n",
    "                # raise Exception(f'No denom column for {kpi}, nom is {nom}')\n",
    "                # calculate kpi\n",
    "                kpi_dict[table][kpi] = f'sum(\"{nom}\")|||sum(\"{denom}\")'\n",
    "                print(kpi_dict[table][kpi], ' as ', '\"'+kpi+'\"', ',')\n",
    "            else:\n",
    "                kpi_dict[table][kpi] = f'sum(\"{nom}\")'\n",
    "                print(kpi_dict[table][kpi], ' as ', '\"'+kpi+'\"', ' ,')\n",
    "        "
   ]
  },
  {
   "cell_type": "code",
   "execution_count": null,
   "metadata": {},
   "outputs": [],
   "source": []
  },
  {
   "attachments": {},
   "cell_type": "markdown",
   "metadata": {},
   "source": [
    "# create tables"
   ]
  },
  {
   "cell_type": "code",
   "execution_count": null,
   "metadata": {},
   "outputs": [],
   "source": [
    "dpm_path = '/home/hawkuser/data2/var/www/hawk-express-app/db/df_dpm/dnb_2023-4-26_6-53-52.json'\n",
    "\n",
    "df_dpm = pd.read_json(dpm_path)\n",
    "df_dpm.head()\n"
   ]
  },
  {
   "cell_type": "code",
   "execution_count": null,
   "metadata": {},
   "outputs": [],
   "source": [
    "db.df_to_db(df_dpm, schema='daily_stats', name='df_dpm', if_exists='replace', index=False)"
   ]
  },
  {
   "cell_type": "code",
   "execution_count": null,
   "metadata": {},
   "outputs": [],
   "source": [
    "cell_mapping_path = '/home/hawkuser/data2/var/www/hawk-express-app/db/df_dpm/cell_mapping_2023-4-26_14-12-24.json'\n",
    "\n",
    "df_cell_mapping = pd.read_json(cell_mapping_path)\n",
    "df_cell_mapping.head()\n"
   ]
  },
  {
   "cell_type": "code",
   "execution_count": null,
   "metadata": {},
   "outputs": [],
   "source": [
    "db.df_to_db(df_cell_mapping, schema='daily_stats', name='cell_mapping', if_exists='replace', index=False)"
   ]
  },
  {
   "cell_type": "code",
   "execution_count": null,
   "metadata": {},
   "outputs": [],
   "source": []
  },
  {
   "cell_type": "code",
   "execution_count": null,
   "metadata": {},
   "outputs": [],
   "source": []
  },
  {
   "cell_type": "code",
   "execution_count": null,
   "metadata": {},
   "outputs": [],
   "source": []
  }
 ],
 "metadata": {
  "kernelspec": {
   "display_name": "dnb",
   "language": "python",
   "name": "python3"
  },
  "language_info": {
   "codemirror_mode": {
    "name": "ipython",
    "version": 3
   },
   "file_extension": ".py",
   "mimetype": "text/x-python",
   "name": "python",
   "nbconvert_exporter": "python",
   "pygments_lexer": "ipython3",
   "version": "3.10.9"
  },
  "orig_nbformat": 4
 },
 "nbformat": 4,
 "nbformat_minor": 2
}
