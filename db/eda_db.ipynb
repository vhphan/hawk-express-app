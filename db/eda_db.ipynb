{
 "cells": [
  {
   "cell_type": "code",
   "execution_count": 2,
   "metadata": {},
   "outputs": [
    {
     "data": {
      "text/plain": [
       "True"
      ]
     },
     "execution_count": 2,
     "metadata": {},
     "output_type": "execute_result"
    }
   ],
   "source": [
    "from dotenv import load_dotenv\n",
    "\n",
    "load_dotenv()"
   ]
  },
  {
   "cell_type": "code",
   "execution_count": 3,
   "metadata": {},
   "outputs": [
    {
     "data": {
      "text/plain": [
       "'dnb'"
      ]
     },
     "execution_count": 3,
     "metadata": {},
     "output_type": "execute_result"
    }
   ],
   "source": [
    "import os\n",
    "os.getenv('PGDB_USER')"
   ]
  },
  {
   "cell_type": "code",
   "execution_count": 4,
   "metadata": {},
   "outputs": [
    {
     "name": "stdout",
     "output_type": "stream",
     "text": [
      "schema is dnb port is 5432 database is dnb\n"
     ]
    }
   ],
   "source": [
    "%run -i '../pyscript/db/main.py'"
   ]
  },
  {
   "cell_type": "code",
   "execution_count": 5,
   "metadata": {},
   "outputs": [],
   "source": [
    "from sqlalchemy import create_engine, text"
   ]
  },
  {
   "cell_type": "code",
   "execution_count": 6,
   "metadata": {},
   "outputs": [],
   "source": [
    "sql = 'select * from information_schema.tables where table_schema = \\'daily_stats\\';'\n",
    "\n",
    "df_tables = db.query_df(sql)"
   ]
  },
  {
   "cell_type": "code",
   "execution_count": 7,
   "metadata": {},
   "outputs": [],
   "source": [
    "sql = 'select * from information_schema.columns where table_schema = \\'daily_stats\\';'\n",
    "\n",
    "df_columns = db.query_df(sql)"
   ]
  },
  {
   "cell_type": "code",
   "execution_count": null,
   "metadata": {},
   "outputs": [],
   "source": []
  },
  {
   "cell_type": "code",
   "execution_count": null,
   "metadata": {},
   "outputs": [],
   "source": []
  },
  {
   "cell_type": "code",
   "execution_count": null,
   "metadata": {},
   "outputs": [],
   "source": []
  },
  {
   "cell_type": "code",
   "execution_count": 8,
   "metadata": {},
   "outputs": [],
   "source": [
    "sql = \"\"\"select column_name from information_schema.columns \n",
    "where table_name ilike 'dc%'\n",
    "and table_name not ilike '%_flex_%' \n",
    "and column_name ilike '%_nom' \n",
    "order by column_name;\"\"\"\n",
    "\n",
    "df_kpi = db.query_df(sql)\n",
    "kpis = df_kpi.values.tolist()   "
   ]
  },
  {
   "cell_type": "code",
   "execution_count": 9,
   "metadata": {},
   "outputs": [
    {
     "data": {
      "text/plain": [
       "[['average_cqi_nom'],\n",
       " ['average_cqi_nom'],\n",
       " ['avg_pusch_ul_rssi_nom'],\n",
       " ['avg_pusch_ul_rssi_nom'],\n",
       " ['cell_availability_nom'],\n",
       " ['cell_availability_nom'],\n",
       " ['dl_16qam_nom'],\n",
       " ['dl_16qam_nom'],\n",
       " ['dl_256qam_nom'],\n",
       " ['dl_256qam_nom'],\n",
       " ['dl_64qam_nom'],\n",
       " ['dl_64qam_nom'],\n",
       " ['dl_cell_throughput_nom'],\n",
       " ['dl_cell_throughput_nom'],\n",
       " ['dl_data_volume_gb_nom'],\n",
       " ['dl_data_volume_gb_nom'],\n",
       " ['dl_mac_vol_as_scell_ext_nom'],\n",
       " ['dl_mac_vol_as_scell_ext_nom'],\n",
       " ['dl_mac_vol_as_scell_nom'],\n",
       " ['dl_mac_vol_as_scell_nom'],\n",
       " ['dl_mac_vol_to_scell_ext_nom'],\n",
       " ['dl_mac_vol_to_scell_ext_nom'],\n",
       " ['dl_mac_vol_to_scell_nom'],\n",
       " ['dl_mac_vol_to_scell_nom'],\n",
       " ['dl_qpsk_nom'],\n",
       " ['dl_qpsk_nom'],\n",
       " ['dl_user_throughput_nom'],\n",
       " ['dl_user_throughput_nom'],\n",
       " ['e-rab_block_rate_nom'],\n",
       " ['e-rab_block_rate_nom'],\n",
       " ['endc_ca_configuration_sr_nom'],\n",
       " ['endc_ca_configuration_sr_nom'],\n",
       " ['endc_ca_deconfiguration_sr_nom'],\n",
       " ['endc_ca_deconfiguration_sr_nom'],\n",
       " ['endc_sr_nom'],\n",
       " ['endc_sr_nom'],\n",
       " ['erab_drop_call_rate_sgnb_nom'],\n",
       " ['erab_drop_call_rate_sgnb_nom'],\n",
       " ['gnodeb_cpu_load_nom'],\n",
       " ['gnodeb_cpu_load_nom'],\n",
       " ['inter-sgnb_pscell_change_success_rate_nom'],\n",
       " ['inter-sgnb_pscell_change_success_rate_nom'],\n",
       " ['intra-sgnb_pscell_change_success_rate_nom'],\n",
       " ['intra-sgnb_pscell_change_success_rate_nom'],\n",
       " ['latency_only_radio_interface_nom'],\n",
       " ['latency_only_radio_interface_nom'],\n",
       " ['packet_loss_dl_nom'],\n",
       " ['packet_loss_dl_nom'],\n",
       " ['packet_loss_ul_nom'],\n",
       " ['packet_loss_ul_nom'],\n",
       " ['resource_block_utilizing_rate_dl_nom'],\n",
       " ['resource_block_utilizing_rate_dl_nom'],\n",
       " ['resource_block_utilizing_rate_ul_nom'],\n",
       " ['resource_block_utilizing_rate_ul_nom'],\n",
       " ['rrc_setup_success_rate_signaling_nom'],\n",
       " ['rrc_setup_success_rate_signaling_nom'],\n",
       " ['total_traffic_gb_nom'],\n",
       " ['total_traffic_gb_nom'],\n",
       " ['ul_16qam_nom'],\n",
       " ['ul_16qam_nom'],\n",
       " ['ul_256qam_nom'],\n",
       " ['ul_256qam_nom'],\n",
       " ['ul_64qam_nom'],\n",
       " ['ul_64qam_nom'],\n",
       " ['ul_bler_nom'],\n",
       " ['ul_bler_nom'],\n",
       " ['ul_cell_throughput_nom'],\n",
       " ['ul_cell_throughput_nom'],\n",
       " ['ul_data_volume_gb_nom'],\n",
       " ['ul_data_volume_gb_nom'],\n",
       " ['ul_qpsk_nom'],\n",
       " ['ul_qpsk_nom'],\n",
       " ['ul_user_throughput_nom'],\n",
       " ['ul_user_throughput_nom']]"
      ]
     },
     "execution_count": 9,
     "metadata": {},
     "output_type": "execute_result"
    }
   ],
   "source": [
    "kpis.sort()\n",
    "kpis"
   ]
  },
  {
   "cell_type": "code",
   "execution_count": 10,
   "metadata": {},
   "outputs": [
    {
     "data": {
      "text/plain": [
       "['average_cqi_nom',\n",
       " 'average_cqi_nom',\n",
       " 'avg_pusch_ul_rssi_nom',\n",
       " 'avg_pusch_ul_rssi_nom',\n",
       " 'cell_availability_nom',\n",
       " 'cell_availability_nom',\n",
       " 'dl_16qam_nom',\n",
       " 'dl_16qam_nom',\n",
       " 'dl_256qam_nom',\n",
       " 'dl_256qam_nom',\n",
       " 'dl_64qam_nom',\n",
       " 'dl_64qam_nom',\n",
       " 'dl_cell_throughput_nom',\n",
       " 'dl_cell_throughput_nom',\n",
       " 'dl_data_volume_gb_nom',\n",
       " 'dl_data_volume_gb_nom',\n",
       " 'dl_mac_vol_as_scell_ext_nom',\n",
       " 'dl_mac_vol_as_scell_ext_nom',\n",
       " 'dl_mac_vol_as_scell_nom',\n",
       " 'dl_mac_vol_as_scell_nom',\n",
       " 'dl_mac_vol_to_scell_ext_nom',\n",
       " 'dl_mac_vol_to_scell_ext_nom',\n",
       " 'dl_mac_vol_to_scell_nom',\n",
       " 'dl_mac_vol_to_scell_nom',\n",
       " 'dl_qpsk_nom',\n",
       " 'dl_qpsk_nom',\n",
       " 'dl_user_throughput_nom',\n",
       " 'dl_user_throughput_nom',\n",
       " 'e-rab_block_rate_nom',\n",
       " 'e-rab_block_rate_nom',\n",
       " 'endc_ca_configuration_sr_nom',\n",
       " 'endc_ca_configuration_sr_nom',\n",
       " 'endc_ca_deconfiguration_sr_nom',\n",
       " 'endc_ca_deconfiguration_sr_nom',\n",
       " 'endc_sr_nom',\n",
       " 'endc_sr_nom',\n",
       " 'erab_drop_call_rate_sgnb_nom',\n",
       " 'erab_drop_call_rate_sgnb_nom',\n",
       " 'gnodeb_cpu_load_nom',\n",
       " 'gnodeb_cpu_load_nom',\n",
       " 'inter-sgnb_pscell_change_success_rate_nom',\n",
       " 'inter-sgnb_pscell_change_success_rate_nom',\n",
       " 'intra-sgnb_pscell_change_success_rate_nom',\n",
       " 'intra-sgnb_pscell_change_success_rate_nom',\n",
       " 'latency_only_radio_interface_nom',\n",
       " 'latency_only_radio_interface_nom',\n",
       " 'packet_loss_dl_nom',\n",
       " 'packet_loss_dl_nom',\n",
       " 'packet_loss_ul_nom',\n",
       " 'packet_loss_ul_nom',\n",
       " 'resource_block_utilizing_rate_dl_nom',\n",
       " 'resource_block_utilizing_rate_dl_nom',\n",
       " 'resource_block_utilizing_rate_ul_nom',\n",
       " 'resource_block_utilizing_rate_ul_nom',\n",
       " 'rrc_setup_success_rate_signaling_nom',\n",
       " 'rrc_setup_success_rate_signaling_nom',\n",
       " 'total_traffic_gb_nom',\n",
       " 'total_traffic_gb_nom',\n",
       " 'ul_16qam_nom',\n",
       " 'ul_16qam_nom',\n",
       " 'ul_256qam_nom',\n",
       " 'ul_256qam_nom',\n",
       " 'ul_64qam_nom',\n",
       " 'ul_64qam_nom',\n",
       " 'ul_bler_nom',\n",
       " 'ul_bler_nom',\n",
       " 'ul_cell_throughput_nom',\n",
       " 'ul_cell_throughput_nom',\n",
       " 'ul_data_volume_gb_nom',\n",
       " 'ul_data_volume_gb_nom',\n",
       " 'ul_qpsk_nom',\n",
       " 'ul_qpsk_nom',\n",
       " 'ul_user_throughput_nom',\n",
       " 'ul_user_throughput_nom']"
      ]
     },
     "execution_count": 10,
     "metadata": {},
     "output_type": "execute_result"
    }
   ],
   "source": [
    "kpis = [kpi[0] for kpi in kpis]\n",
    "kpis"
   ]
  },
  {
   "cell_type": "code",
   "execution_count": 11,
   "metadata": {},
   "outputs": [
    {
     "data": {
      "text/plain": [
       "['cell_availability_nom',\n",
       " 'gnodeb_cpu_load_nom',\n",
       " 'resource_block_utilizing_rate_dl_nom',\n",
       " 'avg_pusch_ul_rssi_nom',\n",
       " 'ul_bler_nom',\n",
       " 'intra-sgnb_pscell_change_success_rate_nom',\n",
       " 'ul_64qam_nom',\n",
       " 'ul_16qam_nom',\n",
       " 'ul_256qam_nom',\n",
       " 'dl_data_volume_gb_nom',\n",
       " 'ul_qpsk_nom',\n",
       " 'average_cqi_nom',\n",
       " 'dl_256qam_nom',\n",
       " 'dl_mac_vol_as_scell_ext_nom',\n",
       " 'ul_data_volume_gb_nom',\n",
       " 'inter-sgnb_pscell_change_success_rate_nom',\n",
       " 'dl_16qam_nom',\n",
       " 'endc_ca_deconfiguration_sr_nom',\n",
       " 'erab_drop_call_rate_sgnb_nom',\n",
       " 'rrc_setup_success_rate_signaling_nom',\n",
       " 'dl_64qam_nom',\n",
       " 'dl_user_throughput_nom',\n",
       " 'packet_loss_ul_nom',\n",
       " 'dl_mac_vol_to_scell_nom',\n",
       " 'ul_user_throughput_nom',\n",
       " 'dl_cell_throughput_nom',\n",
       " 'dl_mac_vol_as_scell_nom',\n",
       " 'total_traffic_gb_nom',\n",
       " 'ul_cell_throughput_nom',\n",
       " 'endc_sr_nom',\n",
       " 'resource_block_utilizing_rate_ul_nom',\n",
       " 'packet_loss_dl_nom',\n",
       " 'latency_only_radio_interface_nom',\n",
       " 'dl_qpsk_nom',\n",
       " 'e-rab_block_rate_nom',\n",
       " 'dl_mac_vol_to_scell_ext_nom',\n",
       " 'endc_ca_configuration_sr_nom']"
      ]
     },
     "execution_count": 11,
     "metadata": {},
     "output_type": "execute_result"
    }
   ],
   "source": [
    "kpis = list(set(kpis))\n",
    "kpis"
   ]
  },
  {
   "cell_type": "code",
   "execution_count": 12,
   "metadata": {},
   "outputs": [
    {
     "name": "stdout",
     "output_type": "stream",
     "text": [
      "\"cell_availability\", \n",
      "\"gnodeb_cpu_load\", \n",
      "\"resource_block_utilizing_rate_dl\", \n",
      "\"avg_pusch_ul_rssi\", \n",
      "\"ul_bler\", \n",
      "\"intra-sgnb_pscell_change_success_rate\", \n",
      "\"ul_64qam\", \n",
      "\"ul_16qam\", \n",
      "\"ul_256qam\", \n",
      "\"dl_data_volume_gb\", \n",
      "\"ul_qpsk\", \n",
      "\"average_cqi\", \n",
      "\"dl_256qam\", \n",
      "\"dl_mac_vol_as_scell_ext\", \n",
      "\"ul_data_volume_gb\", \n",
      "\"inter-sgnb_pscell_change_success_rate\", \n",
      "\"dl_16qam\", \n",
      "\"endc_ca_deconfiguration_sr\", \n",
      "\"erab_drop_call_rate_sgnb\", \n",
      "\"rrc_setup_success_rate_signaling\", \n",
      "\"dl_64qam\", \n",
      "\"dl_user_throughput\", \n",
      "\"packet_loss_ul\", \n",
      "\"dl_mac_vol_to_scell\", \n",
      "\"ul_user_throughput\", \n",
      "\"dl_cell_throughput\", \n",
      "\"dl_mac_vol_as_scell\", \n",
      "\"total_traffic_gb\", \n",
      "\"ul_cell_throughput\", \n",
      "\"endc_sr\", \n",
      "\"resource_block_utilizing_rate_ul\", \n",
      "\"packet_loss_dl\", \n",
      "\"latency_only_radio_interface\", \n",
      "\"dl_qpsk\", \n",
      "\"e-rab_block_rate\", \n",
      "\"dl_mac_vol_to_scell_ext\", \n",
      "\"endc_ca_configuration_sr\"\n"
     ]
    }
   ],
   "source": [
    "# join all elements in kpis separated by commas\n",
    "kpis_string = ', \\n'.join(['\"'+ elem.replace('_nom', '') +'\"' for elem in kpis])\n",
    "print(kpis_string)\n"
   ]
  },
  {
   "cell_type": "code",
   "execution_count": null,
   "metadata": {},
   "outputs": [],
   "source": [
    "kpis_string"
   ]
  },
  {
   "cell_type": "code",
   "execution_count": null,
   "metadata": {},
   "outputs": [],
   "source": []
  },
  {
   "cell_type": "code",
   "execution_count": null,
   "metadata": {},
   "outputs": [],
   "source": []
  },
  {
   "cell_type": "code",
   "execution_count": null,
   "metadata": {},
   "outputs": [],
   "source": [
    "kpi_dict = {}\n",
    "\n",
    "for table in df_columns['table_name'].unique():\n",
    "    kpi_dict[table] = {}\n",
    "    print()\n",
    "    print(f'==========={table}==========')\n",
    "    columns = df_columns[df_columns['table_name'] == table]['column_name'].unique()\n",
    "    for column in columns:\n",
    "        if (column.endswith('_nom')):\n",
    "            nom = column\n",
    "            kpi = column[:-4].strip()\n",
    "            # find the corresponding denom\n",
    "            denom = column[:-4] + '_den'\n",
    "            # check denom column exists\n",
    "            if denom in columns:\n",
    "                # raise Exception(f'No denom column for {kpi}, nom is {nom}')\n",
    "                # calculate kpi\n",
    "                kpi_dict[table][kpi] = f'sum(\"{nom}\")|||sum(\"{denom}\")'\n",
    "                print(kpi_dict[table][kpi], ' as ', '\"'+kpi+'\"', ',')\n",
    "            else:\n",
    "                kpi_dict[table][kpi] = f'sum(\"{nom}\")'\n",
    "                print(kpi_dict[table][kpi], ' as ', '\"'+kpi+'\"', ' ,')\n",
    "        "
   ]
  },
  {
   "cell_type": "code",
   "execution_count": null,
   "metadata": {},
   "outputs": [],
   "source": []
  },
  {
   "attachments": {},
   "cell_type": "markdown",
   "metadata": {},
   "source": [
    "# create tables"
   ]
  },
  {
   "cell_type": "code",
   "execution_count": null,
   "metadata": {},
   "outputs": [],
   "source": [
    "dpm_path = '/home/hawkuser/data2/var/www/hawk-express-app/db/df_dpm/dnb_2023-4-26_6-53-52.json'\n",
    "\n",
    "df_dpm = pd.read_json(dpm_path)\n",
    "df_dpm.head()\n"
   ]
  },
  {
   "cell_type": "code",
   "execution_count": null,
   "metadata": {},
   "outputs": [],
   "source": [
    "db.df_to_db(df_dpm, schema='daily_stats', name='df_dpm', if_exists='replace', index=False)"
   ]
  },
  {
   "cell_type": "code",
   "execution_count": null,
   "metadata": {},
   "outputs": [],
   "source": [
    "cell_mapping_path = '/home/hawkuser/data2/var/www/hawk-express-app/db/df_dpm/cell_mapping_2023-4-26_14-12-24.json'\n",
    "\n",
    "df_cell_mapping = pd.read_json(cell_mapping_path)\n",
    "df_cell_mapping.head()\n"
   ]
  },
  {
   "cell_type": "code",
   "execution_count": null,
   "metadata": {},
   "outputs": [],
   "source": [
    "db.df_to_db(df_cell_mapping, schema='daily_stats', name='cell_mapping', if_exists='replace', index=False)"
   ]
  },
  {
   "cell_type": "code",
   "execution_count": null,
   "metadata": {},
   "outputs": [],
   "source": []
  },
  {
   "cell_type": "code",
   "execution_count": null,
   "metadata": {},
   "outputs": [],
   "source": []
  },
  {
   "cell_type": "code",
   "execution_count": null,
   "metadata": {},
   "outputs": [],
   "source": []
  }
 ],
 "metadata": {
  "kernelspec": {
   "display_name": "dnb",
   "language": "python",
   "name": "python3"
  },
  "language_info": {
   "codemirror_mode": {
    "name": "ipython",
    "version": 3
   },
   "file_extension": ".py",
   "mimetype": "text/x-python",
   "name": "python",
   "nbconvert_exporter": "python",
   "pygments_lexer": "ipython3",
   "version": "3.10.9"
  },
  "orig_nbformat": 4
 },
 "nbformat": 4,
 "nbformat_minor": 2
}
