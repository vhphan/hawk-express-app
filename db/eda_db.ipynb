{
 "cells": [
  {
   "cell_type": "code",
   "execution_count": 1,
   "metadata": {},
   "outputs": [
    {
     "data": {
      "text/plain": [
       "True"
      ]
     },
     "execution_count": 1,
     "metadata": {},
     "output_type": "execute_result"
    }
   ],
   "source": [
    "from dotenv import load_dotenv\n",
    "\n",
    "load_dotenv()"
   ]
  },
  {
   "cell_type": "code",
   "execution_count": 2,
   "metadata": {},
   "outputs": [
    {
     "data": {
      "text/plain": [
       "'dnb'"
      ]
     },
     "execution_count": 2,
     "metadata": {},
     "output_type": "execute_result"
    }
   ],
   "source": [
    "import os\n",
    "os.getenv('PGDB_USER')"
   ]
  },
  {
   "cell_type": "code",
   "execution_count": 3,
   "metadata": {},
   "outputs": [
    {
     "name": "stdout",
     "output_type": "stream",
     "text": [
      "schema is dnb port is 5432 database is dnb\n"
     ]
    }
   ],
   "source": [
    "%run -i '../pyscript/db/main.py'"
   ]
  },
  {
   "cell_type": "code",
   "execution_count": 4,
   "metadata": {},
   "outputs": [],
   "source": [
    "from sqlalchemy import create_engine, text"
   ]
  },
  {
   "cell_type": "code",
   "execution_count": 5,
   "metadata": {},
   "outputs": [],
   "source": [
    "sql = 'select * from information_schema.tables where table_schema = \\'daily_stats\\';'\n",
    "\n",
    "df_tables = db.query_df(sql)"
   ]
  },
  {
   "cell_type": "code",
   "execution_count": 6,
   "metadata": {},
   "outputs": [],
   "source": [
    "sql = 'select * from information_schema.columns where table_schema = \\'daily_stats\\';'\n",
    "\n",
    "df_columns = db.query_df(sql)"
   ]
  },
  {
   "cell_type": "code",
   "execution_count": 14,
   "metadata": {},
   "outputs": [
    {
     "name": "stdout",
     "output_type": "stream",
     "text": [
      "\n",
      "===========dc_e_nr_nrcelldu_day==========\n",
      "ul_qpsk_nom  as  ul_qpsk ,\n",
      "dl_mac_vol_as_scell_ext_nom/dl_mac_vol_as_scell_ext_den  as  dl_mac_vol_as_scell_ext ,\n",
      "cell_availability_nom/cell_availability_den  as  cell_availability ,\n",
      "e-rab_block_rate_nom/e-rab_block_rate_den  as  e-rab_block_rate ,\n",
      "resource_block_utilizing_rate_dl_nom/resource_block_utilizing_rate_dl_den  as  resource_block_utilizing_rate_dl ,\n",
      "resource_block_utilizing_rate_ul_nom/resource_block_utilizing_rate_ul_den  as  resource_block_utilizing_rate_ul ,\n",
      "ul_bler_nom/ul_bler_den  as  ul_bler ,\n",
      "dl_user_throughput_nom/dl_user_throughput_den  as  dl_user_throughput ,\n",
      "ul_user_throughput_nom/ul_user_throughput_den  as  ul_user_throughput ,\n",
      "dl_cell_throughput_nom/dl_cell_throughput_den  as  dl_cell_throughput ,\n",
      "ul_cell_throughput_nom/ul_cell_throughput_den  as  ul_cell_throughput ,\n",
      "dl_data_volume_gb_nom/dl_data_volume_gb_den  as  dl_data_volume_gb ,\n",
      "ul_data_volume_gb_nom/ul_data_volume_gb_den  as  ul_data_volume_gb ,\n",
      "total_traffic_gb_nom/total_traffic_gb_den  as  total_traffic_gb ,\n",
      "dl_qpsk_nom  as  dl_qpsk ,\n",
      "dl_16qam_nom  as  dl_16qam ,\n",
      "dl_64qam_nom  as  dl_64qam ,\n",
      "dl_256qam_nom  as  dl_256qam ,\n",
      "ul_16qam_nom  as  ul_16qam ,\n",
      "ul_64qam_nom  as  ul_64qam ,\n",
      "ul_256qam_nom  as  ul_256qam ,\n",
      "dl_mac_vol_to_scell_nom/dl_mac_vol_to_scell_den  as  dl_mac_vol_to_scell ,\n",
      "dl_mac_vol_as_scell_nom/dl_mac_vol_as_scell_den  as  dl_mac_vol_as_scell ,\n",
      "dl_mac_vol_to_scell_ext_nom/dl_mac_vol_to_scell_ext_den  as  dl_mac_vol_to_scell_ext ,\n",
      "\n",
      "===========dc_e_nr_events_nrcelldu_flex_day==========\n",
      "ul_traffic_volume_nom/ul_traffic_volume_den  as  ul_traffic_volume ,\n",
      "dl_qpsk_nom  as  dl_qpsk ,\n",
      "dl_16qam_nom  as  dl_16qam ,\n",
      "dl_64qam_nom  as  dl_64qam ,\n",
      "dl_256qam_nom  as  dl_256qam ,\n",
      "ul_qpsk_nom  as  ul_qpsk ,\n",
      "ul_16qam_nom  as  ul_16qam ,\n",
      "ul_64qam_nom  as  ul_64qam ,\n",
      "dl_user_throughput_nom/dl_user_throughput_den  as  dl_user_throughput ,\n",
      "ul_user_throughput_nom/ul_user_throughput_den  as  ul_user_throughput ,\n",
      "\n",
      "===========dc_e_nr_nrcelldu_v_day==========\n",
      "latency_only_radio_interface_nom/latency_only_radio_interface_den  as  latency_only_radio_interface ,\n",
      "average_cqi_nom/average_cqi_den  as  average_cqi ,\n",
      "avg_pusch_ul_rssi_nom/avg_pusch_ul_rssi_den  as  avg_pusch_ul_rssi ,\n",
      "\n",
      "===========dc_e_erbsg2_mpprocessingresource_v_day==========\n",
      "gnobeb_cpu_load_nom/gnobeb_cpu_load_den  as  gnobeb_cpu_load ,\n",
      "\n",
      "===========dc_e_vpp_rpuserplanelink_v_day==========\n",
      "packet_loss_dl_nom/packet_loss_dl_den  as  packet_loss_dl ,\n",
      "packet_loss_ul_nom/packet_loss_ul_den  as  packet_loss_ul ,\n",
      "\n",
      "===========dc_e_nr_nrcellcu_day==========\n",
      "endc_sr_nom/endc_sr_den  as  endc_sr ,\n",
      "erab_drop_call_rate_sgnb_nom/erab_drop_call_rate_sgnb_den  as  erab_drop_call_rate_sgnb ,\n",
      "intra-sgnb_pscell_change_success_rate_nom/intra-sgnb_pscell_change_success_rate_den  as  intra-sgnb_pscell_change_success_rate ,\n",
      "inter-sgnb_pscell_change_success_rate_nom/inter-sgnb_pscell_change_success_rate_den  as  inter-sgnb_pscell_change_success_rate ,\n",
      "rrc_setup_success_rate_signaling_nom/rrc_setup_success_rate_signaling_den  as  rrc_setup_success_rate_signaling ,\n",
      "endc_ca_configuration_sr_nom/endc_ca_configuration_sr_den  as  endc_ca_configuration_sr ,\n",
      "endc_ca_deconfiguration_sr_nom/endc_ca_deconfiguration_sr_den  as  endc_ca_deconfiguration_sr ,\n",
      "\n",
      "===========dc_e_nr_events_nrcellcu_flex_day==========\n",
      "intra-sgnb_pscell_change_success_nom/intra-sgnb_pscell_change_success_den  as  intra-sgnb_pscell_change_success ,\n",
      "inter-sgnb_pscell_change_success_nom/inter-sgnb_pscell_change_success_den  as  inter-sgnb_pscell_change_success ,\n",
      "5g_ho_success_rate_dnb_5g_to_dnb_nom/5g_ho_success_rate_dnb_5g_to_dnb_den  as  5g_ho_success_rate_dnb_5g_to_dnb ,\n",
      "inter_rat_ho_success_rate_dnb_5g_to_mno_4g_nom/inter_rat_ho_success_rate_dnb_5g_to_mno_4g_den  as  inter_rat_ho_success_rate_dnb_5g_to_mno_4g ,\n"
     ]
    }
   ],
   "source": [
    "kpi_dict = {}\n",
    "\n",
    "for table in df_columns['table_name'].unique():\n",
    "    kpi_dict[table] = {}\n",
    "    print()\n",
    "    print(f'==========={table}==========')\n",
    "    columns = df_columns[df_columns['table_name'] == table]['column_name'].unique()\n",
    "    for column in columns:\n",
    "        if (column.endswith('_nom')):\n",
    "            nom = column\n",
    "            kpi = column[:-4]\n",
    "            # find the corresponding denom\n",
    "            denom = column[:-4] + '_den'\n",
    "            # check denom column exists\n",
    "            if denom in columns:\n",
    "                # raise Exception(f'No denom column for {kpi}, nom is {nom}')\n",
    "                # calculate kpi\n",
    "                kpi_dict[table][kpi] = f'{nom}/{denom}'\n",
    "                print(kpi_dict[table][kpi], ' as ', kpi, ',')\n",
    "            else:\n",
    "                kpi_dict[table][kpi] = f'{nom}'\n",
    "                print(kpi_dict[table][kpi], ' as ', kpi, ',')\n",
    "        "
   ]
  },
  {
   "cell_type": "code",
   "execution_count": null,
   "metadata": {},
   "outputs": [],
   "source": [
    "tables = kpi_dict.keys()\n",
    "\n",
    "for table in tables:\n",
    "    sql_string = \"SELECT \""
   ]
  }
 ],
 "metadata": {
  "kernelspec": {
   "display_name": "dnb",
   "language": "python",
   "name": "python3"
  },
  "language_info": {
   "codemirror_mode": {
    "name": "ipython",
    "version": 3
   },
   "file_extension": ".py",
   "mimetype": "text/x-python",
   "name": "python",
   "nbconvert_exporter": "python",
   "pygments_lexer": "ipython3",
   "version": "3.10.9"
  },
  "orig_nbformat": 4
 },
 "nbformat": 4,
 "nbformat_minor": 2
}
