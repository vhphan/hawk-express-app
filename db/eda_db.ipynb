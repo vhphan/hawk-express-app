{
 "cells": [
  {
   "cell_type": "code",
   "execution_count": 1,
   "metadata": {},
   "outputs": [
    {
     "data": {
      "text/plain": [
       "True"
      ]
     },
     "execution_count": 1,
     "metadata": {},
     "output_type": "execute_result"
    }
   ],
   "source": [
    "from dotenv import load_dotenv\n",
    "\n",
    "load_dotenv()"
   ]
  },
  {
   "cell_type": "code",
   "execution_count": 2,
   "metadata": {},
   "outputs": [
    {
     "data": {
      "text/plain": [
       "'dnb'"
      ]
     },
     "execution_count": 2,
     "metadata": {},
     "output_type": "execute_result"
    }
   ],
   "source": [
    "import os\n",
    "os.getenv('PGDB_USER')"
   ]
  },
  {
   "cell_type": "code",
   "execution_count": 3,
   "metadata": {},
   "outputs": [
    {
     "name": "stdout",
     "output_type": "stream",
     "text": [
      "schema is dnb port is 5432 database is dnb\n"
     ]
    }
   ],
   "source": [
    "%run -i '../pyscript/db/main.py'"
   ]
  },
  {
   "cell_type": "code",
   "execution_count": 4,
   "metadata": {},
   "outputs": [],
   "source": [
    "from sqlalchemy import create_engine, text"
   ]
  },
  {
   "cell_type": "code",
   "execution_count": 5,
   "metadata": {},
   "outputs": [],
   "source": [
    "sql = \"select * from information_schema.tables where table_schema = 'daily_stats' and table_name ilike '%%_flex%%';\"\n",
    "\n",
    "df_tables = db.query_df(sql)"
   ]
  },
  {
   "cell_type": "code",
   "execution_count": 6,
   "metadata": {},
   "outputs": [],
   "source": [
    "sql = \"select * from information_schema.columns where table_schema = 'daily_stats' and table_name ilike '%%_flex%%';\"\n",
    "\n",
    "df_columns = db.query_df(sql)"
   ]
  },
  {
   "cell_type": "code",
   "execution_count": null,
   "metadata": {},
   "outputs": [],
   "source": []
  },
  {
   "cell_type": "code",
   "execution_count": null,
   "metadata": {},
   "outputs": [],
   "source": []
  },
  {
   "cell_type": "code",
   "execution_count": null,
   "metadata": {},
   "outputs": [],
   "source": []
  },
  {
   "cell_type": "code",
   "execution_count": 7,
   "metadata": {},
   "outputs": [],
   "source": [
    "sql = \"\"\"select column_name from information_schema.columns \n",
    "where table_name ilike 'dc%'\n",
    "and table_name ilike '%_eutran%' \n",
    "and table_name ilike '%_flex%'\n",
    "and column_name ilike '%_nom' \n",
    "order by column_name;\"\"\"\n",
    "\n",
    "df_kpi = db.query_df(sql)\n",
    "kpis = df_kpi.values.tolist()   "
   ]
  },
  {
   "cell_type": "code",
   "execution_count": 8,
   "metadata": {},
   "outputs": [
    {
     "data": {
      "text/plain": [
       "[['dl_16qam_nom'],\n",
       " ['dl_16qam_nom'],\n",
       " ['dl_256qam_nom'],\n",
       " ['dl_256qam_nom'],\n",
       " ['dl_64qam_nom'],\n",
       " ['dl_64qam_nom'],\n",
       " ['dl_cell_throughput_nom'],\n",
       " ['dl_cell_throughput_nom'],\n",
       " ['dl_data_volume_nom'],\n",
       " ['dl_data_volume_nom'],\n",
       " ['dl_qpsk_nom'],\n",
       " ['dl_qpsk_nom'],\n",
       " ['dl_user_throughput_nom'],\n",
       " ['dl_user_throughput_nom'],\n",
       " ['e-rab_setup_success_rate_nom'],\n",
       " ['e-rab_setup_success_rate_nom'],\n",
       " ['erab_drop_call_rate_nom'],\n",
       " ['erab_drop_call_rate_nom'],\n",
       " ['intrafreq_hosr_nom'],\n",
       " ['intrafreq_hosr_nom'],\n",
       " ['packet_loss_(dl)_nom'],\n",
       " ['packet_loss_(dl)_nom'],\n",
       " ['packet_loss_(ul)_nom'],\n",
       " ['packet_loss_(ul)_nom'],\n",
       " ['ul_16qam_nom'],\n",
       " ['ul_16qam_nom'],\n",
       " ['ul_256qam_nom'],\n",
       " ['ul_256qam_nom'],\n",
       " ['ul_64qam_nom'],\n",
       " ['ul_64qam_nom'],\n",
       " ['ul_bler_nom'],\n",
       " ['ul_bler_nom'],\n",
       " ['ul_cell_throughput_nom'],\n",
       " ['ul_cell_throughput_nom'],\n",
       " ['ul_data_volume_nom'],\n",
       " ['ul_data_volume_nom'],\n",
       " ['ul_qpsk_nom'],\n",
       " ['ul_qpsk_nom'],\n",
       " ['ul_user_throughput_nom'],\n",
       " ['ul_user_throughput_nom']]"
      ]
     },
     "execution_count": 8,
     "metadata": {},
     "output_type": "execute_result"
    }
   ],
   "source": [
    "kpis.sort()\n",
    "kpis"
   ]
  },
  {
   "cell_type": "code",
   "execution_count": 9,
   "metadata": {},
   "outputs": [
    {
     "data": {
      "text/plain": [
       "['dl_16qam_nom',\n",
       " 'dl_16qam_nom',\n",
       " 'dl_256qam_nom',\n",
       " 'dl_256qam_nom',\n",
       " 'dl_64qam_nom',\n",
       " 'dl_64qam_nom',\n",
       " 'dl_cell_throughput_nom',\n",
       " 'dl_cell_throughput_nom',\n",
       " 'dl_data_volume_nom',\n",
       " 'dl_data_volume_nom',\n",
       " 'dl_qpsk_nom',\n",
       " 'dl_qpsk_nom',\n",
       " 'dl_user_throughput_nom',\n",
       " 'dl_user_throughput_nom',\n",
       " 'e-rab_setup_success_rate_nom',\n",
       " 'e-rab_setup_success_rate_nom',\n",
       " 'erab_drop_call_rate_nom',\n",
       " 'erab_drop_call_rate_nom',\n",
       " 'intrafreq_hosr_nom',\n",
       " 'intrafreq_hosr_nom',\n",
       " 'packet_loss_(dl)_nom',\n",
       " 'packet_loss_(dl)_nom',\n",
       " 'packet_loss_(ul)_nom',\n",
       " 'packet_loss_(ul)_nom',\n",
       " 'ul_16qam_nom',\n",
       " 'ul_16qam_nom',\n",
       " 'ul_256qam_nom',\n",
       " 'ul_256qam_nom',\n",
       " 'ul_64qam_nom',\n",
       " 'ul_64qam_nom',\n",
       " 'ul_bler_nom',\n",
       " 'ul_bler_nom',\n",
       " 'ul_cell_throughput_nom',\n",
       " 'ul_cell_throughput_nom',\n",
       " 'ul_data_volume_nom',\n",
       " 'ul_data_volume_nom',\n",
       " 'ul_qpsk_nom',\n",
       " 'ul_qpsk_nom',\n",
       " 'ul_user_throughput_nom',\n",
       " 'ul_user_throughput_nom']"
      ]
     },
     "execution_count": 9,
     "metadata": {},
     "output_type": "execute_result"
    }
   ],
   "source": [
    "kpis = [kpi[0] for kpi in kpis]\n",
    "kpis"
   ]
  },
  {
   "cell_type": "code",
   "execution_count": 10,
   "metadata": {},
   "outputs": [
    {
     "data": {
      "text/plain": [
       "['ul_data_volume_nom',\n",
       " 'e-rab_setup_success_rate_nom',\n",
       " 'dl_qpsk_nom',\n",
       " 'dl_user_throughput_nom',\n",
       " 'ul_16qam_nom',\n",
       " 'ul_qpsk_nom',\n",
       " 'ul_256qam_nom',\n",
       " 'dl_16qam_nom',\n",
       " 'erab_drop_call_rate_nom',\n",
       " 'dl_256qam_nom',\n",
       " 'packet_loss_(dl)_nom',\n",
       " 'ul_bler_nom',\n",
       " 'dl_data_volume_nom',\n",
       " 'intrafreq_hosr_nom',\n",
       " 'ul_user_throughput_nom',\n",
       " 'ul_64qam_nom',\n",
       " 'ul_cell_throughput_nom',\n",
       " 'dl_cell_throughput_nom',\n",
       " 'dl_64qam_nom',\n",
       " 'packet_loss_(ul)_nom']"
      ]
     },
     "execution_count": 10,
     "metadata": {},
     "output_type": "execute_result"
    }
   ],
   "source": [
    "kpis = list(set(kpis))\n",
    "kpis"
   ]
  },
  {
   "cell_type": "code",
   "execution_count": 11,
   "metadata": {},
   "outputs": [],
   "source": [
    "kpis.sort()"
   ]
  },
  {
   "cell_type": "code",
   "execution_count": 12,
   "metadata": {},
   "outputs": [
    {
     "name": "stdout",
     "output_type": "stream",
     "text": [
      "\"dl_16qam\", \n",
      "\"dl_256qam\", \n",
      "\"dl_64qam\", \n",
      "\"dl_cell_throughput\", \n",
      "\"dl_data_volume\", \n",
      "\"dl_qpsk\", \n",
      "\"dl_user_throughput\", \n",
      "\"e-rab_setup_success_rate\", \n",
      "\"erab_drop_call_rate\", \n",
      "\"intrafreq_hosr\", \n",
      "\"packet_loss_(dl)\", \n",
      "\"packet_loss_(ul)\", \n",
      "\"ul_16qam\", \n",
      "\"ul_256qam\", \n",
      "\"ul_64qam\", \n",
      "\"ul_bler\", \n",
      "\"ul_cell_throughput\", \n",
      "\"ul_data_volume\", \n",
      "\"ul_qpsk\", \n",
      "\"ul_user_throughput\"\n"
     ]
    }
   ],
   "source": [
    "# join all elements in kpis separated by commas\n",
    "kpis_string = ', \\n'.join(['\"'+ elem.replace('_nom', '') +'\"' for elem in kpis])\n",
    "print(kpis_string)\n"
   ]
  },
  {
   "cell_type": "code",
   "execution_count": null,
   "metadata": {},
   "outputs": [],
   "source": []
  },
  {
   "cell_type": "code",
   "execution_count": null,
   "metadata": {},
   "outputs": [],
   "source": []
  },
  {
   "cell_type": "code",
   "execution_count": 13,
   "metadata": {},
   "outputs": [
    {
     "name": "stdout",
     "output_type": "stream",
     "text": [
      "\n",
      "===========dc_e_erbs_eutrancellfdd_flex_day==========\n",
      "sum(\"ul_qpsk_nom\")  as  \"ul_qpsk\"  ,\n",
      "sum(\"ul_16qam_nom\")  as  \"ul_16qam\"  ,\n",
      "sum(\"ul_64qam_nom\")  as  \"ul_64qam\"  ,\n",
      "sum(\"ul_256qam_nom\")  as  \"ul_256qam\"  ,\n",
      "sum(\"packet_loss_(dl)_nom\")|||sum(\"packet_loss_(dl)_den\")  as  \"packet_loss_(dl)\" ,\n",
      "sum(\"packet_loss_(ul)_nom\")|||sum(\"packet_loss_(ul)_den\")  as  \"packet_loss_(ul)\" ,\n",
      "sum(\"e-rab_setup_success_rate_nom\")|||sum(\"e-rab_setup_success_rate_den\")  as  \"e-rab_setup_success_rate\" ,\n",
      "sum(\"erab_drop_call_rate_nom\")|||sum(\"erab_drop_call_rate_den\")  as  \"erab_drop_call_rate\" ,\n",
      "sum(\"intrafreq_hosr_nom\")|||sum(\"intrafreq_hosr_den\")  as  \"intrafreq_hosr\" ,\n",
      "sum(\"ul_bler_nom\")|||sum(\"ul_bler_den\")  as  \"ul_bler\" ,\n",
      "sum(\"dl_user_throughput_nom\")|||sum(\"dl_user_throughput_den\")  as  \"dl_user_throughput\" ,\n",
      "sum(\"ul_user_throughput_nom\")|||sum(\"ul_user_throughput_den\")  as  \"ul_user_throughput\" ,\n",
      "sum(\"dl_cell_throughput_nom\")|||sum(\"dl_cell_throughput_den\")  as  \"dl_cell_throughput\" ,\n",
      "sum(\"ul_cell_throughput_nom\")|||sum(\"ul_cell_throughput_den\")  as  \"ul_cell_throughput\" ,\n",
      "sum(\"dl_data_volume_nom\")|||sum(\"dl_data_volume_den\")  as  \"dl_data_volume\" ,\n",
      "sum(\"ul_data_volume_nom\")|||sum(\"ul_data_volume_den\")  as  \"ul_data_volume\" ,\n",
      "sum(\"dl_qpsk_nom\")  as  \"dl_qpsk\"  ,\n",
      "sum(\"dl_16qam_nom\")  as  \"dl_16qam\"  ,\n",
      "sum(\"dl_64qam_nom\")  as  \"dl_64qam\"  ,\n",
      "sum(\"dl_256qam_nom\")  as  \"dl_256qam\"  ,\n",
      "\n",
      "===========dc_e_nr_events_nrcellcu_flex_day==========\n",
      "sum(\"intra-sgnb_pscell_change_success_nom\")|||sum(\"intra-sgnb_pscell_change_success_den\")  as  \"intra-sgnb_pscell_change_success\" ,\n",
      "sum(\"inter-sgnb_pscell_change_success_nom\")|||sum(\"inter-sgnb_pscell_change_success_den\")  as  \"inter-sgnb_pscell_change_success\" ,\n",
      "sum(\"5g_ho_success_rate_dnb_5g_to_dnb_nom\")|||sum(\"5g_ho_success_rate_dnb_5g_to_dnb_den\")  as  \"5g_ho_success_rate_dnb_5g_to_dnb\" ,\n",
      "sum(\"inter_rat_ho_success_rate_dnb_5g_to_mno_4g_nom\")|||sum(\"inter_rat_ho_success_rate_dnb_5g_to_mno_4g_den\")  as  \"inter_rat_ho_success_rate_dnb_5g_to_mno_4g\" ,\n",
      "\n",
      "===========dc_e_nr_events_nrcelldu_flex_day==========\n",
      "sum(\"ul_traffic_volume_nom\")|||sum(\"ul_traffic_volume_den\")  as  \"ul_traffic_volume\" ,\n",
      "sum(\"dl_qpsk_nom\")  as  \"dl_qpsk\"  ,\n",
      "sum(\"dl_16qam_nom\")  as  \"dl_16qam\"  ,\n",
      "sum(\"dl_64qam_nom\")  as  \"dl_64qam\"  ,\n",
      "sum(\"dl_256qam_nom\")  as  \"dl_256qam\"  ,\n",
      "sum(\"ul_qpsk_nom\")  as  \"ul_qpsk\"  ,\n",
      "sum(\"ul_16qam_nom\")  as  \"ul_16qam\"  ,\n",
      "sum(\"ul_64qam_nom\")  as  \"ul_64qam\"  ,\n",
      "sum(\"dl_user_throughput_nom\")|||sum(\"dl_user_throughput_den\")  as  \"dl_user_throughput\" ,\n",
      "sum(\"ul_user_throughput_nom\")|||sum(\"ul_user_throughput_den\")  as  \"ul_user_throughput\" ,\n"
     ]
    }
   ],
   "source": [
    "kpi_dict = {}\n",
    "\n",
    "for table in df_columns['table_name'].unique():\n",
    "    kpi_dict[table] = {}\n",
    "    print()\n",
    "    print(f'==========={table}==========')\n",
    "    columns = df_columns[df_columns['table_name'] == table]['column_name'].unique()\n",
    "    for column in columns:\n",
    "        if (column.endswith('_nom')):\n",
    "            nom = column\n",
    "            kpi = column[:-4].strip()\n",
    "            # find the corresponding denom\n",
    "            denom = column[:-4] + '_den'\n",
    "            # check denom column exists\n",
    "            if denom in columns:\n",
    "                # raise Exception(f'No denom column for {kpi}, nom is {nom}')\n",
    "                # calculate kpi\n",
    "                kpi_dict[table][kpi] = f'sum(\"{nom}\")|||sum(\"{denom}\")'\n",
    "                print(kpi_dict[table][kpi], ' as ', '\"'+kpi+'\"', ',')\n",
    "            else:\n",
    "                kpi_dict[table][kpi] = f'sum(\"{nom}\")'\n",
    "                print(kpi_dict[table][kpi], ' as ', '\"'+kpi+'\"', ' ,')\n",
    "        "
   ]
  },
  {
   "cell_type": "code",
   "execution_count": null,
   "metadata": {},
   "outputs": [],
   "source": []
  },
  {
   "attachments": {},
   "cell_type": "markdown",
   "metadata": {},
   "source": [
    "# create tables"
   ]
  },
  {
   "cell_type": "code",
   "execution_count": null,
   "metadata": {},
   "outputs": [],
   "source": [
    "dpm_path = '/home/hawkuser/data2/var/www/hawk-express-app/db/df_dpm/dnb_2023-4-26_6-53-52.json'\n",
    "\n",
    "df_dpm = pd.read_json(dpm_path)\n",
    "df_dpm.head()\n"
   ]
  },
  {
   "cell_type": "code",
   "execution_count": null,
   "metadata": {},
   "outputs": [],
   "source": [
    "db.df_to_db(df_dpm, schema='daily_stats', name='df_dpm', if_exists='replace', index=False)"
   ]
  },
  {
   "cell_type": "code",
   "execution_count": null,
   "metadata": {},
   "outputs": [],
   "source": [
    "cell_mapping_path = '/home/hawkuser/data2/var/www/hawk-express-app/db/df_dpm/cell_mapping_2023-4-26_14-12-24.json'\n",
    "\n",
    "df_cell_mapping = pd.read_json(cell_mapping_path)\n",
    "df_cell_mapping.head()\n"
   ]
  },
  {
   "cell_type": "code",
   "execution_count": null,
   "metadata": {},
   "outputs": [],
   "source": [
    "db.df_to_db(df_cell_mapping, schema='daily_stats', name='cell_mapping', if_exists='replace', index=False)"
   ]
  },
  {
   "cell_type": "code",
   "execution_count": null,
   "metadata": {},
   "outputs": [],
   "source": []
  },
  {
   "cell_type": "code",
   "execution_count": null,
   "metadata": {},
   "outputs": [],
   "source": []
  },
  {
   "cell_type": "code",
   "execution_count": null,
   "metadata": {},
   "outputs": [],
   "source": []
  }
 ],
 "metadata": {
  "kernelspec": {
   "display_name": "dnb",
   "language": "python",
   "name": "python3"
  },
  "language_info": {
   "codemirror_mode": {
    "name": "ipython",
    "version": 3
   },
   "file_extension": ".py",
   "mimetype": "text/x-python",
   "name": "python",
   "nbconvert_exporter": "python",
   "pygments_lexer": "ipython3",
   "version": "3.10.9"
  },
  "orig_nbformat": 4
 },
 "nbformat": 4,
 "nbformat_minor": 2
}
