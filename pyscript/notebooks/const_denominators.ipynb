{
 "cells": [
  {
   "cell_type": "code",
   "execution_count": 2,
   "metadata": {},
   "outputs": [],
   "source": [
    "tables = {\n",
    "    'nr': [\n",
    "        'dc_e_nr_nrcelldu_day',\n",
    "        'dc_e_nr_nrcellcu_day',\n",
    "        'dc_e_nr_nrcelldu_v_day',\n",
    "        'dc_e_erbsg2_mpprocessingresource_v_day',\n",
    "        'dc_e_vpp_rpuserplanelink_v_day',\n",
    "    ],\n",
    "    'lte': [\n",
    "        'dc_e_erbs_eutrancellfdd_day',\n",
    "        'dc_e_erbs_eutrancellrelation_day',\n",
    "        'dc_e_erbs_eutrancellfdd_v_day'\n",
    "    ]\n",
    "}"
   ]
  },
  {
   "cell_type": "code",
   "execution_count": 3,
   "metadata": {},
   "outputs": [
    {
     "data": {
      "text/plain": [
       "'/data2/var/www/hawk-express-app/pyscript/notebooks'"
      ]
     },
     "execution_count": 3,
     "metadata": {},
     "output_type": "execute_result"
    }
   ],
   "source": [
    "%pwd"
   ]
  },
  {
   "cell_type": "code",
   "execution_count": 4,
   "metadata": {},
   "outputs": [
    {
     "name": "stdout",
     "output_type": "stream",
     "text": [
      "/data2/var/www/hawk-express-app/pyscript\n"
     ]
    }
   ],
   "source": [
    "%cd .."
   ]
  },
  {
   "cell_type": "code",
   "execution_count": 5,
   "metadata": {},
   "outputs": [
    {
     "name": "stdout",
     "output_type": "stream",
     "text": [
      "schema is dnb port is 5432 database is dnb\n"
     ]
    }
   ],
   "source": [
    "from db.main import postgres_db\n",
    "db = postgres_db('dnb', 'dnb')"
   ]
  },
  {
   "cell_type": "code",
   "execution_count": 6,
   "metadata": {},
   "outputs": [
    {
     "data": {
      "text/plain": [
       "(1000, 44)"
      ]
     },
     "execution_count": 6,
     "metadata": {},
     "output_type": "execute_result"
    }
   ],
   "source": [
    "df = db.query_df('SELECT * FROM daily_stats.dc_e_nr_nrcelldu_day order by random() LIMIT 1000')\n",
    "df.shape"
   ]
  },
  {
   "cell_type": "code",
   "execution_count": null,
   "metadata": {},
   "outputs": [],
   "source": []
  },
  {
   "cell_type": "code",
   "execution_count": 7,
   "metadata": {},
   "outputs": [
    {
     "data": {
      "text/plain": [
       "cell_availability_den          True\n",
       "dl_user_throughput_den         True\n",
       "ul_user_throughput_den         True\n",
       "dl_cell_throughput_den         True\n",
       "ul_cell_throughput_den         True\n",
       "dl_data_volume_gb_den          True\n",
       "ul_data_volume_gb_den          True\n",
       "total_traffic_gb_den           True\n",
       "dl_mac_vol_to_scell_den        True\n",
       "dl_mac_vol_as_scell_den        True\n",
       "dl_mac_vol_to_scell_ext_den    True\n",
       "dl_mac_vol_as_scell_ext_den    True\n",
       "dtype: bool"
      ]
     },
     "execution_count": 7,
     "metadata": {},
     "output_type": "execute_result"
    }
   ],
   "source": [
    "# get columns where stdev is 0\n",
    "std = ((df.describe().loc['std'] == 0) & (df.describe().loc['mean'] != 0))\n",
    "std = std[std]\n",
    "std"
   ]
  },
  {
   "cell_type": "code",
   "execution_count": 8,
   "metadata": {},
   "outputs": [
    {
     "name": "stdout",
     "output_type": "stream",
     "text": [
      "dc_e_nr_nrcelldu_day (12,)\n",
      "dc_e_nr_nrcellcu_day (0,)\n",
      "dc_e_nr_nrcelldu_v_day (0,)\n",
      "dc_e_erbsg2_mpprocessingresource_v_day (0,)\n",
      "dc_e_vpp_rpuserplanelink_v_day (0,)\n"
     ]
    }
   ],
   "source": [
    "const_columns = []\n",
    "const_values = []\n",
    "for table in tables['nr']:\n",
    "    df = db.query_df(f'SELECT * FROM daily_stats.{table} order by random() LIMIT 1000')\n",
    "    std = ((df.describe().loc['std'] == 0) & (df.describe().loc['mean'] != 0))\n",
    "    std = std[std]\n",
    "    mean = df.describe().loc['mean'][std.index.tolist()]\n",
    "    print(table, std.shape)\n",
    "    const_columns.extend(std.index.tolist())\n",
    "    const_values.extend(mean.tolist())"
   ]
  },
  {
   "cell_type": "code",
   "execution_count": 9,
   "metadata": {},
   "outputs": [
    {
     "data": {
      "text/plain": [
       "{'cell_availability_den': 86400.0,\n",
       " 'dl_user_throughput_den': 1000.0,\n",
       " 'ul_user_throughput_den': 1000.0,\n",
       " 'dl_cell_throughput_den': 1000.0,\n",
       " 'ul_cell_throughput_den': 1000.0,\n",
       " 'dl_data_volume_gb_den': 1073741824.0,\n",
       " 'ul_data_volume_gb_den': 1073741824.0,\n",
       " 'total_traffic_gb_den': 1073741824.0,\n",
       " 'dl_mac_vol_to_scell_den': 1073741824.0,\n",
       " 'dl_mac_vol_as_scell_den': 1073741824.0,\n",
       " 'dl_mac_vol_to_scell_ext_den': 1073741824.0,\n",
       " 'dl_mac_vol_as_scell_ext_den': 1073741824.0}"
      ]
     },
     "execution_count": 9,
     "metadata": {},
     "output_type": "execute_result"
    }
   ],
   "source": [
    "dict(zip(const_columns, const_values))"
   ]
  },
  {
   "cell_type": "code",
   "execution_count": 10,
   "metadata": {},
   "outputs": [
    {
     "name": "stdout",
     "output_type": "stream",
     "text": [
      "dc_e_erbs_eutrancellfdd_day (4,)\n",
      "dc_e_erbs_eutrancellrelation_day (0,)\n",
      "dc_e_erbs_eutrancellfdd_v_day (0,)\n"
     ]
    }
   ],
   "source": [
    "const_columns = []\n",
    "const_values = []\n",
    "for table in tables['lte']:\n",
    "    df = db.query_df(f'SELECT * FROM daily_stats.{table} order by random() LIMIT 1000')\n",
    "    std = ((df.describe().loc['std'] == 0) & (df.describe().loc['mean'] != 0))\n",
    "    std = std[std]\n",
    "    mean = df.describe().loc['mean'][std.index.tolist()]\n",
    "    print(table, std.shape)\n",
    "    const_columns.extend(std.index.tolist())\n",
    "    const_values.extend(mean.tolist())"
   ]
  },
  {
   "cell_type": "code",
   "execution_count": 11,
   "metadata": {},
   "outputs": [
    {
     "data": {
      "text/plain": [
       "{'cell_availability_den': 86400.0,\n",
       " 'dl_data_volume_den': 8388608.0,\n",
       " 'ul_data_volume_den': 8388608.0,\n",
       " 'total_traffic_den': 8388608.0}"
      ]
     },
     "execution_count": 11,
     "metadata": {},
     "output_type": "execute_result"
    }
   ],
   "source": [
    "dict(zip(const_columns, const_values))"
   ]
  },
  {
   "cell_type": "code",
   "execution_count": 12,
   "metadata": {},
   "outputs": [],
   "source": [
    "flexTables = {\n",
    "    'nr': [\n",
    "        'dc_e_nr_events_nrcellcu_flex_day',\n",
    "        'dc_e_nr_events_nrcelldu_flex_day',\n",
    "    ],\n",
    "    'lte': [\n",
    "        'dc_e_erbs_eutrancellfdd_flex_day',\n",
    "    ]\n",
    "};"
   ]
  },
  {
   "cell_type": "code",
   "execution_count": 13,
   "metadata": {},
   "outputs": [
    {
     "name": "stdout",
     "output_type": "stream",
     "text": [
      "dc_e_nr_events_nrcellcu_flex_day (0,)\n",
      "dc_e_nr_events_nrcelldu_flex_day (3,)\n"
     ]
    },
    {
     "data": {
      "text/plain": [
       "{'dl_user_throughput_den': 1000.0,\n",
       " 'ul_user_throughput_den': 1000.0,\n",
       " 'ul_traffic_volume_den': 1073741824.0}"
      ]
     },
     "execution_count": 13,
     "metadata": {},
     "output_type": "execute_result"
    }
   ],
   "source": [
    "const_columns = []\n",
    "const_values = []\n",
    "for table in flexTables['nr']:\n",
    "    df = db.query_df(f'SELECT * FROM daily_stats.{table} order by random() LIMIT 1000')\n",
    "    std = ((df.describe().loc['std'] == 0) & (df.describe().loc['mean'] != 0))\n",
    "    std = std[std]\n",
    "    mean = df.describe().loc['mean'][std.index.tolist()]\n",
    "    print(table, std.shape)\n",
    "    const_columns.extend(std.index.tolist())\n",
    "    const_values.extend(mean.tolist())\n",
    "\n",
    "dict(zip(const_columns, const_values))"
   ]
  },
  {
   "cell_type": "code",
   "execution_count": 14,
   "metadata": {},
   "outputs": [
    {
     "name": "stdout",
     "output_type": "stream",
     "text": [
      "dc_e_erbs_eutrancellfdd_flex_day (2,)\n"
     ]
    },
    {
     "data": {
      "text/plain": [
       "{'dl_data_volume_den': 8388608.0, 'ul_data_volume_den': 8388608.0}"
      ]
     },
     "execution_count": 14,
     "metadata": {},
     "output_type": "execute_result"
    }
   ],
   "source": [
    "const_columns = []\n",
    "const_values = []\n",
    "for table in flexTables['lte']:\n",
    "    df = db.query_df(f'SELECT * FROM daily_stats.{table} order by random() LIMIT 1000')\n",
    "    std = ((df.describe().loc['std'] == 0) & (df.describe().loc['mean'] != 0))\n",
    "    std = std[std]\n",
    "    mean = df.describe().loc['mean'][std.index.tolist()]\n",
    "    print(table, std.shape)\n",
    "    const_columns.extend(std.index.tolist())\n",
    "    const_values.extend(mean.tolist())\n",
    "\n",
    "dict(zip(const_columns, const_values))"
   ]
  },
  {
   "cell_type": "code",
   "execution_count": null,
   "metadata": {},
   "outputs": [],
   "source": []
  },
  {
   "cell_type": "code",
   "execution_count": null,
   "metadata": {},
   "outputs": [],
   "source": []
  },
  {
   "cell_type": "code",
   "execution_count": null,
   "metadata": {},
   "outputs": [],
   "source": []
  },
  {
   "cell_type": "code",
   "execution_count": null,
   "metadata": {},
   "outputs": [],
   "source": []
  },
  {
   "cell_type": "code",
   "execution_count": null,
   "metadata": {},
   "outputs": [],
   "source": []
  },
  {
   "cell_type": "code",
   "execution_count": null,
   "metadata": {},
   "outputs": [],
   "source": []
  }
 ],
 "metadata": {
  "kernelspec": {
   "display_name": "dnb",
   "language": "python",
   "name": "python3"
  },
  "language_info": {
   "codemirror_mode": {
    "name": "ipython",
    "version": 3
   },
   "file_extension": ".py",
   "mimetype": "text/x-python",
   "name": "python",
   "nbconvert_exporter": "python",
   "pygments_lexer": "ipython3",
   "version": "3.10.9"
  },
  "orig_nbformat": 4
 },
 "nbformat": 4,
 "nbformat_minor": 2
}
